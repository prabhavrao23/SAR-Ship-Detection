{
 "cells": [
  {
   "cell_type": "markdown",
   "metadata": {},
   "source": ["# SAR Ship Detection Notebook"]
  },
  {
   "cell_type": "code",
   "execution_count": null,
   "metadata": {},
   "outputs": [],
   "source": [
    "from src import preprocess, detect_ships, visualize\n",
    "import matplotlib.pyplot as plt\n",
    "image, profile = preprocess.preprocess('data/sar_sample.tif')\n",
    "detections = detect_ships.detect_ships(image)\n",
    "visualize.visualize_detections(image, detections)\n",
    "detections.to_csv('results.csv', index=False)"
   ]
  }
 ],
 "metadata": {},
 "nbformat": 4,
 "nbformat_minor": 2
}
